{
 "cells": [
  {
   "cell_type": "code",
   "execution_count": 1,
   "id": "f01923fd",
   "metadata": {},
   "outputs": [],
   "source": [
    "using Random, Distributions, Statistics\n",
    "using Plots"
   ]
  },
  {
   "cell_type": "code",
   "execution_count": null,
   "id": "f99e5b08",
   "metadata": {},
   "outputs": [
    {
     "data": {
      "text/plain": [
       "DA_keep (generic function with 1 method)"
      ]
     },
     "metadata": {},
     "output_type": "display_data"
    }
   ],
   "source": [
    "# DA algorithm with \"keep\"-idea\n",
    "# acceptor preference must be a dictionary of tupples of the proposer and its preference order, i.e. [(\"A\", 1), (\"B\", 2)]\n",
    "\n",
    "function DA_keep(props, accs, prop_prefs, acc_prefs, acc_cap)\n",
    "    prop_prefs_copy = deepcopy(prop_prefs) # Dictionary for each acceptor\n",
    "    free_props = Set(props) \n",
    "    acc_matches = Dict(a => [] for a in accs) # keep -> formal matching\n",
    "    prop_matches = Dict(a => [] for a in props)\n",
    "    acc_matches[\"outside\"] = [] # outside option\n",
    "    prop_matches[\"outside\"] = []\n",
    "    acc_applylist = deepcopy(acc_matches) # Dictionary for each acceptor\n",
    "\n",
    "    algo_lim = 5000 # limit in case of too long iteration\n",
    "    count = 1\n",
    "\n",
    "    while !isempty(free_props) && count < algo_lim # continue until everybody gets matched\n",
    "        for prop in free_props\n",
    "            apply = first(prop_prefs_copy[prop]) # most prefarable one at this time\n",
    "            for j in acc_prefs[apply]\n",
    "                if j[1] == prop # check the individual rationality\n",
    "                    push!(acc_applylist[apply], j)\n",
    "                end\n",
    "            end\n",
    "            prop_prefs_copy[prop] = setdiff(prop_prefs_copy[prop], [apply]) # delete the acceptor from the proposer's preference list(copy)\n",
    "        end\n",
    "        # acc_applylist is filled \n",
    "        for acc in accs\n",
    "            if acc_applylist[acc] !== acc_matches[acc] # only conducts the algorithm if the kept proposers profile is different from the previous \n",
    "                sort!(acc_applylist[acc], by = x -> x[2])\n",
    "\n",
    "                k = min(acc_cap[acc], length(acc_applylist[acc])) # not to exceed the capacity, also technically not to exceed the current matches\n",
    "                acc_matches[acc] = acc_applylist[acc][1:k] #\"keep\"\n",
    "\n",
    "                for kept in acc_matches[acc] # delete proposers from the free propser set\n",
    "                    delete!(free_props, kept[1])\n",
    "                end\n",
    "\n",
    "                for rejected in acc_applylist[acc][k+1:end] # \n",
    "                    if isempty(prop_prefs_copy[rejected[1]])\n",
    "                        push!(prop_matches[\"outside\"], rejected[1])\n",
    "                        delete!(free_props, rejected[1])\n",
    "                    else\n",
    "                        push!(free_props, rejected[1])\n",
    "                    end\n",
    "                end\n",
    "            end\n",
    "            acc_applylist[acc] = deepcopy(acc_matches[acc])\n",
    "        end\n",
    "        count += 1\n",
    "        if count == algo_lim\n",
    "            print(\"reached algo_lim\")\n",
    "        end\n",
    "    end\n",
    "\n",
    "    for acc in accs\n",
    "        acc_matches[acc] = [k[1] for k in acc_matches[acc]]\n",
    "        for i in acc_matches[acc]\n",
    "            push!(prop_matches[i], acc)\n",
    "        end\n",
    "    end\n",
    "    return prop_matches, acc_matches\n",
    "end"
   ]
  },
  {
   "cell_type": "code",
   "execution_count": 3,
   "id": "a0bf61ad",
   "metadata": {},
   "outputs": [
    {
     "data": {
      "text/plain": [
       "DA_onebyone (generic function with 1 method)"
      ]
     },
     "metadata": {},
     "output_type": "display_data"
    }
   ],
   "source": [
    "function DA_onebyone(props, accs, prop_prefs, acc_prefs, acc_cap)\n",
    "    prop_prefs_copy = deepcopy(prop_prefs)\n",
    "    free_props = Set(props)\n",
    "    acc_matches = Dict(a => [] for a in accs)\n",
    "    prop_matches = Dict(a => [] for a in props)\n",
    "    acc_matches[\"outside\"] = []\n",
    "    prop_matches[\"outside\"] = []\n",
    "    algo_lim = 5000\n",
    "    count = 1\n",
    "\n",
    "    while !isempty(free_props) && count < algo_lim\n",
    "        for prop in free_props\n",
    "            apply = first(prop_prefs_copy[prop])\n",
    "            if in(prop, acc_prefs[apply])\n",
    "                if length(acc_matches[apply]) < acc_cap[apply]\n",
    "                    push!(acc_matches[apply], prop)\n",
    "                    push!(prop_matches[prop], apply)\n",
    "                    delete!(free_props, prop)\n",
    "                else\n",
    "                    worst_match = 1\n",
    "                    for current_match in acc_matches[apply]\n",
    "                        order = findfirst(==(current_match), acc_prefs[apply])\n",
    "                        if order > worst_match\n",
    "                            worst_match = order\n",
    "                        end\n",
    "                    end\n",
    "                    if findfirst(==(prop), acc_prefs[apply]) < worst_match\n",
    "                        rejected = acc_prefs[apply][worst_match]\n",
    "                        #if acceptor prefers the new prop\n",
    "                        filter!(e -> e ≠ rejected, acc_matches[apply])\n",
    "                        push!(acc_matches[apply], prop)\n",
    "                        push!(prop_matches[prop], apply)\n",
    "                        delete!(free_props, prop)\n",
    "                        prop_matches[rejected] = []\n",
    "                        if isempty(prop_prefs_copy[rejected])\n",
    "                            push!(prop_matches[\"outside\"], prop)\n",
    "                        else\n",
    "                            push!(free_props, rejected)\n",
    "                        end\n",
    "                    end\n",
    "                end\n",
    "            end\n",
    "            prop_prefs_copy[prop] = setdiff(prop_prefs_copy[prop], [apply])\n",
    "            if isempty(prop_prefs_copy[prop]) && isempty(prop_matches[prop])\n",
    "                push!(prop_matches[\"outside\"], prop)\n",
    "                delete!(free_props, prop)\n",
    "            end\n",
    "        end\n",
    "        count += 1\n",
    "        if count == algo_lim\n",
    "            print(\"reached algo_lim\")\n",
    "        end\n",
    "    end\n",
    "    return prop_matches, acc_matches\n",
    "end"
   ]
  },
  {
   "cell_type": "code",
   "execution_count": 3,
   "id": "de634b19",
   "metadata": {},
   "outputs": [
    {
     "data": {
      "text/plain": [
       "marketgen (generic function with 1 method)"
      ]
     },
     "metadata": {},
     "output_type": "display_data"
    }
   ],
   "source": [
    "function marketgen(n,m,app_min, app_max, acc_min, acc_max, uni_pref_max, ud)\n",
    "    stu = [\"$i\" for i in 1:n] #学生\n",
    "    uni = [\"$j\" for j in 1001:1000+m] #大学\n",
    "    stu_pref = Dict(s => [] for s in stu) #学生の選好\n",
    "    uni_pref = Dict(u => [] for u in uni) #大学の選好\n",
    "    uni_cap = Dict(u => rand(acc_min:acc_max) for u in uni) #大学の受け入れ可能数\n",
    "    stu_cap = Dict(s => 1 for s in stu) #学生の受け入れ可能数 = 1\n",
    "\n",
    "\n",
    "    #ランダムに選好を生成する（ソート）\n",
    "    for s in stu\n",
    "        app_num = rand(app_min:app_max) #応募大学数\n",
    "        rand_pref = [[rand(ud) j] for j in uni] \n",
    "        sort!(rand_pref, by= x->x[1])\n",
    "        stu_pref[s] = [rand_pref[k][2] for k in 1:app_num]\n",
    "    end\n",
    "\n",
    "    for u in uni\n",
    "        rand_pref = [[rand(ud) j] for j in stu] \n",
    "        pref_max = uni_pref_max #大学の選好リスト長さ\n",
    "        sort!(rand_pref, by= x->x[1])\n",
    "        uni_pref[u] = [rand_pref[k][2] for k in 1:pref_max]\n",
    "    end\n",
    "    return stu, uni, stu_pref, uni_pref, stu_cap, uni_cap\n",
    "end"
   ]
  },
  {
   "cell_type": "code",
   "execution_count": 4,
   "id": "9f29bdec",
   "metadata": {},
   "outputs": [
    {
     "data": {
      "text/plain": [
       "marketgen_keep (generic function with 1 method)"
      ]
     },
     "metadata": {},
     "output_type": "display_data"
    }
   ],
   "source": [
    "function marketgen_keep(n,m,app_min, app_max, acc_min, acc_max, uni_pref_max, ud)\n",
    "    stu = [\"$i\" for i in 1:n] #学生\n",
    "    uni = [\"$j\" for j in 1001:1000+m] #大学\n",
    "    stu_pref = Dict(s => [] for s in stu) #学生の選好\n",
    "    uni_pref = Dict(u => [] for u in uni) #大学の選好\n",
    "    uni_cap = Dict(u => rand(acc_min:acc_max) for u in uni) #大学の受け入れ可能数\n",
    "    stu_cap = Dict(s => 1 for s in stu) #学生の受け入れ可能数 = 1\n",
    "\n",
    "\n",
    "    #ランダムに選好を生成する（ソート）\n",
    "    for s in stu\n",
    "        app_num = rand(app_min:app_max) #応募大学数\n",
    "        rand_pref = [[rand(ud) j] for j in uni] \n",
    "        sort!(rand_pref, by= x->x[1])\n",
    "        stu_pref[s] = [rand_pref[k][2] for k in 1:app_num]\n",
    "    end\n",
    "\n",
    "    for u in uni\n",
    "        rand_pref = [[rand(ud) j] for j in stu] \n",
    "        pref_max = uni_pref_max #大学の選好リスト長さ\n",
    "        sort!(rand_pref, by= x->x[1])\n",
    "        uni_pref[u] = [(rand_pref[k][2], k) for k in 1:pref_max]\n",
    "    end\n",
    "    return stu, uni, stu_pref, uni_pref, stu_cap, uni_cap\n",
    "end"
   ]
  },
  {
   "cell_type": "code",
   "execution_count": 6,
   "id": "614c3862",
   "metadata": {},
   "outputs": [
    {
     "data": {
      "text/plain": [
       "Cn (generic function with 1 method)"
      ]
     },
     "metadata": {},
     "output_type": "display_data"
    }
   ],
   "source": [
    "#多対一DAを回してC(n)を計算\n",
    "function Cn(stu, uni, stu_pref, uni_pref, stu_cap, uni_cap)\n",
    "    #学生応募制\n",
    "    matches_so = DA(stu, uni, stu_pref, uni_pref, stu_cap, uni_cap)\n",
    "\n",
    "    #大学応募制\n",
    "    matches_uo = DA(uni, stu, uni_pref, stu_pref, uni_cap, stu_cap)\n",
    "    C = 0\n",
    "    for s in stu\n",
    "        if !(matches_so[1][s] == matches_uo[2][s])\n",
    "            C += 1\n",
    "        end\n",
    "    end\n",
    "    return C/size(stu, 1)\n",
    "end\n",
    "    "
   ]
  },
  {
   "cell_type": "code",
   "execution_count": 7,
   "id": "0f9c0735",
   "metadata": {},
   "outputs": [
    {
     "data": {
      "text/plain": [
       "DA (generic function with 2 methods)"
      ]
     },
     "metadata": {},
     "output_type": "display_data"
    }
   ],
   "source": [
    "# Student-applying Deferred Acceptance Algorithm in Julia\n",
    "\n",
    "function DA(props, accs, prop_prefs, acc_prefs, prop_cap, acc_cap)\n",
    "    prop_prefs_copy = copy(prop_prefs)\n",
    "    free_props = Set(props)\n",
    "    acc_matches = Dict(a => [] for a in accs)\n",
    "    prop_matches = Dict(a => [] for a in props)\n",
    "    acc_matches[\"outside\"] = []\n",
    "    prop_matches[\"outside\"] = []\n",
    "    algo_lim = 10000\n",
    "    count = 1\n",
    "\n",
    "    while !isempty(free_props) && count < algo_lim\n",
    "        for prop in free_props\n",
    "            apply = first(prop_prefs_copy[prop])\n",
    "            if in(prop, acc_prefs[apply])\n",
    "                if length(acc_matches[apply]) < acc_cap[apply]\n",
    "                    push!(acc_matches[apply], prop)\n",
    "                    push!(prop_matches[prop], apply)\n",
    "                    delete!(free_props, prop)\n",
    "                else\n",
    "                    worst_match = 1\n",
    "                    for current_match in acc_matches[apply]\n",
    "                        order = findfirst(==(current_match), acc_prefs[apply])\n",
    "                        if order > worst_match\n",
    "                            worst_match = order\n",
    "                        end\n",
    "                    end\n",
    "                    if findfirst(==(prop), acc_prefs[apply]) < worst_match\n",
    "                        rejected = acc_prefs[apply][worst_match]\n",
    "                        #if acceptor prefers the new prop\n",
    "                        filter!(e -> e ≠ rejected, acc_matches[apply])\n",
    "                        push!(acc_matches[apply], prop)\n",
    "                        push!(prop_matches[prop], apply)\n",
    "                        delete!(free_props, prop)\n",
    "                        prop_matches[rejected] = []\n",
    "                        if isempty(prop_prefs_copy[rejected])\n",
    "                            push!(prop_matches[\"outside\"], prop)\n",
    "                        else\n",
    "                            push!(free_props, rejected)\n",
    "                        end\n",
    "                    end\n",
    "                end\n",
    "            end\n",
    "            prop_prefs_copy[prop] = setdiff(prop_prefs_copy[prop], [apply])\n",
    "            if isempty(prop_prefs_copy[prop]) && isempty(prop_matches[prop])\n",
    "                push!(prop_matches[\"outside\"], prop)\n",
    "                delete!(free_props, prop)\n",
    "            end\n",
    "        end\n",
    "        count += 1\n",
    "    end\n",
    "    return prop_matches, acc_matches\n",
    "end"
   ]
  },
  {
   "cell_type": "code",
   "execution_count": null,
   "id": "8958d79f",
   "metadata": {},
   "outputs": [
    {
     "name": "stdout",
     "output_type": "stream",
     "text": [
      "10 end \n"
     ]
    }
   ],
   "source": [
    "#C(n) をプロットする\n",
    "n_max = 300 #市場規模最大値\n",
    "knum_max = 3 #選好リストの数の種類最大値\n",
    "S = 5 #各値での試行回数\n",
    "x = zeros(n_max, knum_max)\n",
    "\n",
    "app_min = 4 #学生が応募する大学数下限\n",
    "app_max = 15 #学生が応募する大学数上限\n",
    "acc_min = 1 #大学の受け入れ可能学生数下限\n",
    "acc_max = 1 #大学の受け入れ可能学生数上限\n",
    "ud = Uniform(0,1)\n",
    "Random.seed!(1234)\n",
    "\n",
    "for k in 1:knum_max\n",
    "    k_5 = 5 * k + 5\n",
    "    for n in k_5:n_max\n",
    "        CC = 0\n",
    "        for j in 1:S\n",
    "            market = marketgen(n, n, min(k_5,15), min(k_5,15), acc_min, acc_max, n, Uniform(0,1))\n",
    "            CC += Cn(market[1], market[2], market[3], market[4], market[5],market[6])\n",
    "        end\n",
    "        x[n, k] = CC /S\n",
    "    end\n",
    "    print(k_5, \" end \\n\")\n",
    "end"
   ]
  },
  {
   "cell_type": "code",
   "execution_count": null,
   "id": "0baca14a",
   "metadata": {},
   "outputs": [],
   "source": [
    "(n,k)= size(x)\n",
    "y = copy(x)\n",
    "for j in 1:k\n",
    "    k_5 = 5*j+5\n",
    "    \n",
    "    for i in k_5+1:n-1\n",
    "        y[i,j] = mean(x[i-1:i+1,j])\n",
    "    end\n",
    "end"
   ]
  },
  {
   "cell_type": "code",
   "execution_count": 29,
   "id": "f2ab0c4b",
   "metadata": {},
   "outputs": [
    {
     "data": {
      "text/plain": [
       "\"g:\\\\マイドライブ\\\\1. Univ_docs\\\\経研勉強会\\\\マッチング\\\\code\\\\matching_sim_3.svg\""
      ]
     },
     "metadata": {},
     "output_type": "display_data"
    }
   ],
   "source": [
    "ENV[\"GKS_ENCODING\"] = \"utf8\"\n",
    "gr(fontfamily=\"IPAMincho\")\n",
    "plot([10:n_max], y[10:n_max, 1], label = \"k=10, 1to1\", title = \"戦略的操作が可能な参加者割合と \\n 市場規模 n・選好リストの長さ k・ \\n 大学受け入れ可能数の関係\", xlab = \"n\", ylab = \"C(n)/n\", xscale=:log10)\n",
    "plot!([10:n_max],y_2[10:n_max, 1], label = \"k=10, 1to2\")\n",
    "plot!([15:n_max],y[15:n_max,2], label = \"k=15, 1to1\")\n",
    "plot!([15:n_max],y_2[15:n_max,2], label = \"k=15, 1to2\")\n",
    "plot!([20:n_max],y[20:n_max,3], label = \"k=20, 1to1\")\n",
    "plot!([20:n_max],y_2[20:n_max,3], label = \"k=20, 1to2\")\n",
    "#plot!([25:n_max],y[25:n_max,4], label = \"k=25\")\n",
    "#plot!([30:n_max],y[30:n_max,5], label = \"k=30\")\n",
    "savefig(\"matching_sim_3.svg\")"
   ]
  }
 ],
 "metadata": {
  "kernelspec": {
   "display_name": "Julia 1.11.0",
   "language": "julia",
   "name": "julia-1.11"
  },
  "language_info": {
   "file_extension": ".jl",
   "mimetype": "application/julia",
   "name": "julia",
   "version": "1.11.0"
  }
 },
 "nbformat": 4,
 "nbformat_minor": 5
}
